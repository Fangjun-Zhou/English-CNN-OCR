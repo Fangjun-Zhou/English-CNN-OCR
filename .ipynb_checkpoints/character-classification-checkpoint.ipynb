{
 "cells": [
  {
   "cell_type": "markdown",
   "metadata": {},
   "source": [
    "# Imports"
   ]
  },
  {
   "cell_type": "code",
   "execution_count": 1,
   "metadata": {},
   "outputs": [
    {
     "name": "stderr",
     "output_type": "stream",
     "text": [
      "2022-08-16 22:54:34.340362: W tensorflow/stream_executor/platform/default/dso_loader.cc:64] Could not load dynamic library 'libcudart.so.11.0'; dlerror: libcudart.so.11.0: cannot open shared object file: No such file or directory\n",
      "2022-08-16 22:54:34.340480: I tensorflow/stream_executor/cuda/cudart_stub.cc:29] Ignore above cudart dlerror if you do not have a GPU set up on your machine.\n"
     ]
    }
   ],
   "source": [
    "import tensorflow as tf\n",
    "from tensorflow.keras import layers, models\n",
    "from tensorflow.python.ops.numpy_ops import np_config\n",
    "np_config.enable_numpy_behavior()\n",
    "\n",
    "import os\n",
    "import numpy as np\n",
    "import matplotlib.pyplot as plt\n",
    "import random\n",
    "from sklearn import utils\n",
    "from sklearn.model_selection import train_test_split"
   ]
  },
  {
   "cell_type": "markdown",
   "metadata": {},
   "source": [
    "# Load Data Set\n",
    "\n",
    "The data sets of this project come from http://www.ee.surrey.ac.uk/CVSSP/demos/chars74k/\n",
    "\n",
    "- The image of english font stores in data-set/EnglishFnt.tgz\n",
    "\n",
    "The data set is extracted in data-set"
   ]
  },
  {
   "cell_type": "code",
   "execution_count": 2,
   "metadata": {},
   "outputs": [],
   "source": [
    "classNames = []\n",
    "# Add 0-9 to classNames\n",
    "for i in range(10):\n",
    "    classNames.append(str(i))\n",
    "# Add A-Z to classNames\n",
    "for i in range(65, 91):\n",
    "    classNames.append(chr(i))\n",
    "# Add a-z to classNames\n",
    "for i in range(97, 123):\n",
    "    classNames.append(chr(i))"
   ]
  },
  {
   "cell_type": "code",
   "execution_count": 3,
   "metadata": {},
   "outputs": [
    {
     "name": "stderr",
     "output_type": "stream",
     "text": [
      "2022-08-16 22:54:39.299016: W tensorflow/stream_executor/platform/default/dso_loader.cc:64] Could not load dynamic library 'libcuda.so.1'; dlerror: libcuda.so.1: cannot open shared object file: No such file or directory\n",
      "2022-08-16 22:54:39.299107: W tensorflow/stream_executor/cuda/cuda_driver.cc:269] failed call to cuInit: UNKNOWN ERROR (303)\n",
      "2022-08-16 22:54:39.299172: I tensorflow/stream_executor/cuda/cuda_diagnostics.cc:156] kernel driver does not appear to be running on this host (vultr): /proc/driver/nvidia/version does not exist\n",
      "2022-08-16 22:54:39.303434: I tensorflow/core/platform/cpu_feature_guard.cc:193] This TensorFlow binary is optimized with oneAPI Deep Neural Network Library (oneDNN) to use the following CPU instructions in performance-critical operations:  AVX2 FMA\n",
      "To enable them in other operations, rebuild TensorFlow with the appropriate compiler flags.\n"
     ]
    },
    {
     "data": {
      "text/plain": [
       "(62992, 62992)"
      ]
     },
     "execution_count": 3,
     "metadata": {},
     "output_type": "execute_result"
    }
   ],
   "source": [
    "dataSetImg, dataSetLabel = [], []\n",
    "# Construct data set path data-set/English/Fnt\n",
    "dataSetPath = os.path.join(\"data-set\", \"English\", \"Fnt\")\n",
    "# List all sub directories in data-set/English/Fnt\n",
    "dirList = os.listdir(dataSetPath)\n",
    "dirList.sort()\n",
    "# Traverse through all sub directories in data-set/English/Fnt\n",
    "for i in range(len(dirList)):\n",
    "    # List all files in current sub directory\n",
    "    fileList = os.listdir(os.path.join(dataSetPath, dirList[i]))\n",
    "    # Traverse through all files in current sub directory\n",
    "    for j in range(len(fileList)):\n",
    "        # Read image\n",
    "        img = plt.imread(os.path.join(dataSetPath, dirList[i], fileList[j]))\n",
    "        # Convert grayscale image to RGB\n",
    "        if img.ndim == 2:\n",
    "            img = np.stack((img,)*3, -1)\n",
    "        # Resize image to 32x32\n",
    "        img = tf.image.resize(img, [32, 32])\n",
    "        img = tf.cast(img, tf.float64)\n",
    "        # Add image to data set\n",
    "        dataSetImg.append(img)\n",
    "        # Add label to data set\n",
    "        dataSetLabel.append(i)\n",
    "\n",
    "len(dataSetImg), len(dataSetLabel)"
   ]
  },
  {
   "cell_type": "code",
   "execution_count": 4,
   "metadata": {},
   "outputs": [
    {
     "data": {
      "text/plain": [
       "((62992, 32, 32, 3), (62992,))"
      ]
     },
     "execution_count": 4,
     "metadata": {},
     "output_type": "execute_result"
    }
   ],
   "source": [
    "# Convert data set to numpy array\n",
    "dataSetImg = np.array(dataSetImg)\n",
    "dataSetLabel = np.array(dataSetLabel)\n",
    "dataSetImg.shape, dataSetLabel.shape"
   ]
  },
  {
   "cell_type": "code",
   "execution_count": 5,
   "metadata": {},
   "outputs": [
    {
     "data": {
      "text/plain": [
       "(62992, 62992)"
      ]
     },
     "execution_count": 5,
     "metadata": {},
     "output_type": "execute_result"
    }
   ],
   "source": [
    "# Randomly shuffle data set\n",
    "dataSetImg, dataSetLabel = utils.shuffle(dataSetImg, dataSetLabel)\n",
    "len(dataSetImg), len(dataSetLabel)"
   ]
  },
  {
   "cell_type": "markdown",
   "metadata": {},
   "source": [
    "# Split Data Set"
   ]
  },
  {
   "cell_type": "code",
   "execution_count": 6,
   "metadata": {},
   "outputs": [],
   "source": [
    "def CheckDataSetDisplay(dataSetImg, dataSetLabel):\n",
    "    # Randomly pick 16 images from data set and plot them\n",
    "    sampleIndex = np.random.choice(len(dataSetImg), 16)\n",
    "    for i in range(len(sampleIndex)):\n",
    "        plt.subplot(4, 4, i+1)\n",
    "        plt.imshow(dataSetImg[sampleIndex[i]])\n",
    "        plt.title(dataSetLabel[sampleIndex[i]])\n",
    "        plt.axis(\"off\")"
   ]
  },
  {
   "cell_type": "code",
   "execution_count": 7,
   "metadata": {},
   "outputs": [
    {
     "data": {
      "text/plain": [
       "(50393, 12599, 50393, 12599)"
      ]
     },
     "execution_count": 7,
     "metadata": {},
     "output_type": "execute_result"
    },
    {
     "data": {
      "image/png": "[encoded data removed]",
      "text/plain": [
       "<Figure size 432x288 with 16 Axes>"
      ]
     },
     "metadata": {
      "needs_background": "light"
     },
     "output_type": "display_data"
    }
   ],
   "source": [
    "# Split data set into training set and test set\n",
    "trainImg, testImg, trainLabel, testLabel = train_test_split(\n",
    "    dataSetImg,\n",
    "    dataSetLabel,\n",
    "    test_size=0.2\n",
    ")\n",
    "CheckDataSetDisplay(trainImg, trainLabel)\n",
    "len(trainImg), len(testImg), len(trainLabel), len(testLabel)"
   ]
  },
  {
   "cell_type": "code",
   "execution_count": 8,
   "metadata": {},
   "outputs": [],
   "source": [
    "# Config the data set size for training and test set\n",
    "# Set to negative value to use all data set\n",
    "TRAINING_SET_SIZE = -1\n",
    "TEST_SET_SIZE = -1"
   ]
  },
  {
   "cell_type": "code",
   "execution_count": 9,
   "metadata": {},
   "outputs": [
    {
     "data": {
      "text/plain": [
       "(50393, 12599, 50393, 12599)"
      ]
     },
     "execution_count": 9,
     "metadata": {},
     "output_type": "execute_result"
    }
   ],
   "source": [
    "if TRAINING_SET_SIZE > 0:\n",
    "    trainingSetSize = min(TRAINING_SET_SIZE, len(trainImg))\n",
    "    # Randomly pick training set size images from training set\n",
    "    trainImg, trainLabel = utils.shuffle(trainImg, trainLabel)\n",
    "    trainImg = trainImg[:trainingSetSize]\n",
    "    trainLabel = trainLabel[:trainingSetSize]\n",
    "if TEST_SET_SIZE > 0:\n",
    "    testSetSize = min(TEST_SET_SIZE, len(testImg))\n",
    "    # Randomly pick test set size images from test set\n",
    "    testImg, testLabel = utils.shuffle(testImg, testLabel)\n",
    "    testImg = testImg[:testSetSize]\n",
    "    testLabel = testLabel[:testSetSize]\n",
    "\n",
    "len(trainImg), len(testImg), len(trainLabel), len(testLabel)"
   ]
  },
  {
   "cell_type": "markdown",
   "metadata": {},
   "source": [
    "# Construct Model"
   ]
  },
  {
   "cell_type": "code",
   "execution_count": 10,
   "metadata": {},
   "outputs": [],
   "source": [
    "def CreateModel():\n",
    "    model = models.Sequential()\n",
    "    model.add(layers.Conv2D(32, (3, 3), activation=\"relu\", input_shape=(32, 32, 3)))\n",
    "    model.add(layers.MaxPooling2D((2, 2)))\n",
    "    model.add(layers.Conv2D(64, (3, 3), activation=\"relu\"))\n",
    "    model.add(layers.MaxPooling2D((2, 2)))\n",
    "    model.add(layers.Conv2D(64, (3, 3), activation=\"relu\"))\n",
    "    model.add(layers.Flatten())\n",
    "    model.add(layers.Dense(64, activation=\"relu\"))\n",
    "    model.add(layers.Dense(len(classNames), activation=\"softmax\"))\n",
    "    model.compile(optimizer=\"adam\",\n",
    "              loss=tf.keras.losses.SparseCategoricalCrossentropy(from_logits=True),\n",
    "              metrics=[\"accuracy\"])\n",
    "    \n",
    "    return model"
   ]
  },
  {
   "cell_type": "code",
   "execution_count": 11,
   "metadata": {},
   "outputs": [
    {
     "name": "stdout",
     "output_type": "stream",
     "text": [
      "Model: \"sequential\"\n",
      "_________________________________________________________________\n",
      " Layer (type)                Output Shape              Param #   \n",
      "=================================================================\n",
      " conv2d (Conv2D)             (None, 30, 30, 32)        896       \n",
      "                                                                 \n",
      " max_pooling2d (MaxPooling2D  (None, 15, 15, 32)       0         \n",
      " )                                                               \n",
      "                                                                 \n",
      " conv2d_1 (Conv2D)           (None, 13, 13, 64)        18496     \n",
      "                                                                 \n",
      " max_pooling2d_1 (MaxPooling  (None, 6, 6, 64)         0         \n",
      " 2D)                                                             \n",
      "                                                                 \n",
      " conv2d_2 (Conv2D)           (None, 4, 4, 64)          36928     \n",
      "                                                                 \n",
      " flatten (Flatten)           (None, 1024)              0         \n",
      "                                                                 \n",
      " dense (Dense)               (None, 64)                65600     \n",
      "                                                                 \n",
      " dense_1 (Dense)             (None, 62)                4030      \n",
      "                                                                 \n",
      "=================================================================\n",
      "Total params: 125,950\n",
      "Trainable params: 125,950\n",
      "Non-trainable params: 0\n",
      "_________________________________________________________________\n"
     ]
    }
   ],
   "source": [
    "model = CreateModel()\n",
    "model.summary()"
   ]
  },
  {
   "cell_type": "markdown",
   "metadata": {},
   "source": [
    "# Training"
   ]
  },
  {
   "cell_type": "code",
   "execution_count": 12,
   "metadata": {},
   "outputs": [],
   "source": [
    "checkpoint_path = \"check-points/img-classification.ckpt\"\n",
    "checkpoint_dir = os.path.dirname(checkpoint_path)\n",
    "\n",
    "# Create checkpoint callback\n",
    "cpCallback = tf.keras.callbacks.ModelCheckpoint(filepath=checkpoint_path,\n",
    "                                                save_weights_only=True,\n",
    "                                                verbose=1)"
   ]
  },
  {
   "cell_type": "code",
   "execution_count": 13,
   "metadata": {},
   "outputs": [
    {
     "data": {
      "text/plain": [
       "(50393, 32, 32, 3)"
      ]
     },
     "execution_count": 13,
     "metadata": {},
     "output_type": "execute_result"
    }
   ],
   "source": [
    "trainImg.shape"
   ]
  },
  {
   "cell_type": "code",
   "execution_count": 14,
   "metadata": {},
   "outputs": [
    {
     "name": "stderr",
     "output_type": "stream",
     "text": [
      "2022-08-16 22:59:05.758520: W tensorflow/core/framework/cpu_allocator_impl.cc:82] Allocation of 619229184 exceeds 10% of free system memory.\n"
     ]
    },
    {
     "name": "stdout",
     "output_type": "stream",
     "text": [
      "Epoch 1/10\n"
     ]
    },
    {
     "name": "stderr",
     "output_type": "stream",
     "text": [
      "/home/fangjun/English-CNN-OCR/venv/lib/python3.8/site-packages/tensorflow/python/util/dispatch.py:1082: UserWarning: \"`sparse_categorical_crossentropy` received `from_logits=True`, but the `output` argument was produced by a sigmoid or softmax activation and thus does not represent logits. Was this intended?\"\n",
      "  return dispatch_target(*args, **kwargs)\n"
     ]
    },
    {
     "name": "stdout",
     "output_type": "stream",
     "text": [
      "   2/1575 [..............................] - ETA: 1:30 - loss: 4.1295 - accuracy: 0.0000e+00   "
     ]
    },
    {
     "name": "stderr",
     "output_type": "stream",
     "text": [
      "2022-08-16 22:59:22.659883: W tensorflow/core/framework/cpu_allocator_impl.cc:82] Allocation of 19663488 exceeds 10% of free system memory.\n",
      "2022-08-16 22:59:22.734710: W tensorflow/core/framework/cpu_allocator_impl.cc:82] Allocation of 14191200 exceeds 10% of free system memory.\n",
      "2022-08-16 22:59:22.773975: W tensorflow/core/framework/cpu_allocator_impl.cc:82] Allocation of 19663488 exceeds 10% of free system memory.\n",
      "2022-08-16 22:59:22.796447: W tensorflow/core/framework/cpu_allocator_impl.cc:82] Allocation of 14191200 exceeds 10% of free system memory.\n"
     ]
    },
    {
     "name": "stdout",
     "output_type": "stream",
     "text": [
      "1575/1575 [==============================] - ETA: 0s - loss: 0.9523 - accuracy: 0.7285\n",
      "Epoch 1: saving model to check-points/img-classification.ckpt\n",
      "1575/1575 [==============================] - 87s 54ms/step - loss: 0.9523 - accuracy: 0.7285 - val_loss: 0.5464 - val_accuracy: 0.8140\n",
      "Epoch 2/10\n",
      "1574/1575 [============================>.] - ETA: 0s - loss: 0.4562 - accuracy: 0.8434\n",
      "Epoch 2: saving model to check-points/img-classification.ckpt\n",
      "1575/1575 [==============================] - 69s 44ms/step - loss: 0.4562 - accuracy: 0.8434 - val_loss: 0.4279 - val_accuracy: 0.8486\n",
      "Epoch 3/10\n",
      "1575/1575 [==============================] - ETA: 0s - loss: 0.3648 - accuracy: 0.8640\n",
      "Epoch 3: saving model to check-points/img-classification.ckpt\n",
      "1575/1575 [==============================] - 66s 42ms/step - loss: 0.3648 - accuracy: 0.8640 - val_loss: 0.3896 - val_accuracy: 0.8558\n",
      "Epoch 4/10\n",
      "1574/1575 [============================>.] - ETA: 0s - loss: 0.3113 - accuracy: 0.8810\n",
      "Epoch 4: saving model to check-points/img-classification.ckpt\n",
      "1575/1575 [==============================] - 68s 43ms/step - loss: 0.3113 - accuracy: 0.8810 - val_loss: 0.3442 - val_accuracy: 0.8732\n",
      "Epoch 5/10\n",
      "1575/1575 [==============================] - ETA: 0s - loss: 0.2767 - accuracy: 0.8913\n",
      "Epoch 5: saving model to check-points/img-classification.ckpt\n",
      "1575/1575 [==============================] - 67s 43ms/step - loss: 0.2767 - accuracy: 0.8913 - val_loss: 0.3498 - val_accuracy: 0.8700\n",
      "Epoch 6/10\n",
      "1574/1575 [============================>.] - ETA: 0s - loss: 0.2521 - accuracy: 0.8998\n",
      "Epoch 6: saving model to check-points/img-classification.ckpt\n",
      "1575/1575 [==============================] - 67s 42ms/step - loss: 0.2522 - accuracy: 0.8998 - val_loss: 0.3340 - val_accuracy: 0.8777\n",
      "Epoch 7/10\n",
      "1575/1575 [==============================] - ETA: 0s - loss: 0.2318 - accuracy: 0.9068\n",
      "Epoch 7: saving model to check-points/img-classification.ckpt\n",
      "1575/1575 [==============================] - 69s 44ms/step - loss: 0.2318 - accuracy: 0.9068 - val_loss: 0.3393 - val_accuracy: 0.8744\n",
      "Epoch 8/10\n",
      "1575/1575 [==============================] - ETA: 0s - loss: 0.2144 - accuracy: 0.9130\n",
      "Epoch 8: saving model to check-points/img-classification.ckpt\n",
      "1575/1575 [==============================] - 67s 43ms/step - loss: 0.2144 - accuracy: 0.9130 - val_loss: 0.3204 - val_accuracy: 0.8840\n",
      "Epoch 9/10\n",
      "1574/1575 [============================>.] - ETA: 0s - loss: 0.2037 - accuracy: 0.9174\n",
      "Epoch 9: saving model to check-points/img-classification.ckpt\n",
      "1575/1575 [==============================] - 67s 43ms/step - loss: 0.2036 - accuracy: 0.9174 - val_loss: 0.3127 - val_accuracy: 0.8895\n",
      "Epoch 10/10\n",
      "1575/1575 [==============================] - ETA: 0s - loss: 0.1954 - accuracy: 0.9209\n",
      "Epoch 10: saving model to check-points/img-classification.ckpt\n",
      "1575/1575 [==============================] - 69s 44ms/step - loss: 0.1954 - accuracy: 0.9209 - val_loss: 0.3370 - val_accuracy: 0.8794\n"
     ]
    }
   ],
   "source": [
    "history = model.fit(trainImg, trainLabel, epochs=10, \n",
    "                    validation_data=(testImg, testLabel),\n",
    "                    callbacks=[cpCallback])"
   ]
  },
  {
   "cell_type": "markdown",
   "metadata": {},
   "source": [
    "# Evaluation"
   ]
  },
  {
   "cell_type": "code",
   "execution_count": 15,
   "metadata": {},
   "outputs": [
    {
     "data": {
      "text/plain": [
       "<tensorflow.python.training.tracking.util.CheckpointLoadStatus at 0x7efc955efa00>"
      ]
     },
     "execution_count": 15,
     "metadata": {},
     "output_type": "execute_result"
    }
   ],
   "source": [
    "model = CreateModel()\n",
    "model.load_weights(checkpoint_path)"
   ]
  },
  {
   "cell_type": "code",
   "execution_count": 16,
   "metadata": {},
   "outputs": [
    {
     "name": "stdout",
     "output_type": "stream",
     "text": [
      "394/394 - 5s - loss: 0.3370 - accuracy: 0.8794 - 5s/epoch - 12ms/step\n",
      "Current model, accuracy: 87.94%\n"
     ]
    }
   ],
   "source": [
    "# Evaluate the model\n",
    "loss, acc = model.evaluate(testImg, testLabel, verbose=2)\n",
    "print(\"Current model, accuracy: {:5.2f}%\".format(100 * acc))"
   ]
  },
  {
   "cell_type": "code",
   "execution_count": 17,
   "metadata": {},
   "outputs": [
    {
     "data": {
      "image/png": "[encoded data removed]",
      "text/plain": [
       "<Figure size 720x720 with 1 Axes>"
      ]
     },
     "metadata": {
      "needs_background": "light"
     },
     "output_type": "display_data"
    }
   ],
   "source": [
    "history_dict = history.history\n",
    "fig, ax = plt.subplots(figsize=(10,10))\n",
    "accuracy = history_dict[\"accuracy\"]\n",
    "val_accuracy = history_dict[\"val_accuracy\"]\n",
    "epochs = range(1, len(accuracy) + 1)\n",
    "ax.plot(epochs, accuracy, label=\"Accuracy\")\n",
    "ax.plot(epochs, val_accuracy, label=\"Validation accuracy\")\n",
    "ax.set_title(\"Training and validation loss\")\n",
    "ax.set_xlabel(\"Epochs\")\n",
    "ax.set_ylabel(\"Accuracy\")\n",
    "ax.legend()\n",
    "plt.show()"
   ]
  },
  {
   "cell_type": "markdown",
   "metadata": {},
   "source": [
    "# Test the model in an image"
   ]
  },
  {
   "cell_type": "code",
   "execution_count": 18,
   "metadata": {},
   "outputs": [
    {
     "data": {
      "text/plain": [
       "Text(0.5, 0, 'w')"
      ]
     },
     "execution_count": 18,
     "metadata": {},
     "output_type": "execute_result"
    },
    {
     "data": {
      "image/png": "[encoded data removed]",
      "text/plain": [
       "<Figure size 432x288 with 1 Axes>"
      ]
     },
     "metadata": {
      "needs_background": "light"
     },
     "output_type": "display_data"
    }
   ],
   "source": [
    "indx = 100\n",
    "testImg = dataSetImg[indx]\n",
    "testLabel = classNames[dataSetLabel[indx]]\n",
    "fig, ax = plt.subplots()\n",
    "ax.imshow(testImg)\n",
    "ax.set_xlabel(testLabel)"
   ]
  },
  {
   "cell_type": "code",
   "execution_count": 19,
   "metadata": {},
   "outputs": [
    {
     "name": "stdout",
     "output_type": "stream",
     "text": [
      "1/1 [==============================] - 0s 220ms/step\n"
     ]
    },
    {
     "data": {
      "text/plain": [
       "([0, 1, 2, 3, 4],\n",
       " [Text(0, 0, ''),\n",
       "  Text(0, 0, ''),\n",
       "  Text(0, 0, ''),\n",
       "  Text(0, 0, ''),\n",
       "  Text(0, 0, '')])"
      ]
     },
     "execution_count": 19,
     "metadata": {},
     "output_type": "execute_result"
    },
    {
     "data": {
      "image/png": "[encoded data removed]",
      "text/plain": [
       "<Figure size 432x288 with 1 Axes>"
      ]
     },
     "metadata": {
      "needs_background": "light"
     },
     "output_type": "display_data"
    }
   ],
   "source": [
    "predictRes = model.predict(testImg.reshape(1,32,32,3))\n",
    "top5Prediction = np.argsort(predictRes[0])[-5:][::-1]\n",
    "predictResTop5 = np.sort(predictRes[0])[-5:][::-1]\n",
    "top5PredictionName = [classNames[i] for i in top5Prediction]\n",
    "\n",
    "fig, ax = plt.subplots()\n",
    "ax.bar(top5PredictionName, predictResTop5)\n",
    "plt.xticks(rotation=45)"
   ]
  }
 ],
 "metadata": {
  "kernelspec": {
   "display_name": "Python 3 (ipykernel)",
   "language": "python",
   "name": "python3"
  },
  "language_info": {
   "codemirror_mode": {
    "name": "ipython",
    "version": 3
   },
   "file_extension": ".py",
   "mimetype": "text/x-python",
   "name": "python",
   "nbconvert_exporter": "python",
   "pygments_lexer": "ipython3",
   "version": "3.8.10"
  },
  "vscode": {
   "interpreter": {
    "hash": "6aee250e02d055e1ab2c297603676f433e9dabc780523e421a13a2ac43509012"
   }
  }
 },
 "nbformat": 4,
 "nbformat_minor": 4
}
